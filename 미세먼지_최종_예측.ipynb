{
  "nbformat": 4,
  "nbformat_minor": 0,
  "metadata": {
    "colab": {
      "provenance": [],
      "gpuType": "T4"
    },
    "kernelspec": {
      "name": "python3",
      "display_name": "Python 3"
    },
    "language_info": {
      "name": "python"
    },
    "accelerator": "GPU"
  },
  "cells": [
    {
      "cell_type": "code",
      "source": [
        "import pandas as pd\n",
        "import numpy as np\n",
        "import warnings\n",
        "\n",
        "# Scikit-learn 라이브러리\n",
        "from sklearn.model_selection import TimeSeriesSplit\n",
        "from sklearn.svm import SVR\n",
        "from sklearn.metrics import r2_score, mean_squared_error, mean_absolute_error\n",
        "\n",
        "# TensorFlow / Keras 라이브러리\n",
        "import tensorflow as tf\n",
        "from tensorflow.keras.models import Sequential\n",
        "from tensorflow.keras.layers import LSTM, Dense\n",
        "from tensorflow.keras.callbacks import EarlyStopping\n",
        "\n",
        "# 경고 메시지 비활성화\n",
        "warnings.filterwarnings('ignore', category=FutureWarning)\n",
        "tf.get_logger().setLevel('ERROR')\n",
        "\n",
        "# --- 1. 데이터 준비 ---\n",
        "try:\n",
        "    df10 = pd.read_csv('pm10.csv')\n",
        "except FileNotFoundError:\n",
        "    print(\"pm10.csv 파일을 찾을 수 없습니다. 스크립트와 동일한 디렉토리에 있는지 확인하세요.\")\n",
        "    exit()\n",
        "\n",
        "features = ['PM2.5', '오 존', '이산화질소', '일산화탄소', '아황산가스',\n",
        "            '평균기온(°C)', '평균 풍속(m/s)', '평균 상대습도(%)', '평균 현지기압(hPa)', 'PM10_MA7', 'PM10_MA30', 'PM10lag',\n",
        "            'Autumn', 'Spring', 'Summer', 'Winter']\n",
        "\n",
        "X_raw, y = [], []\n",
        "for i in range(7, len(df10)):\n",
        "    X_raw.append(df10.loc[i-7:i-1, features].values)\n",
        "    y.append(df10.loc[i, 'PM10'])\n",
        "\n",
        "X_raw = np.array(X_raw)\n",
        "y = np.array(y)\n",
        "\n",
        "# --- 2. 최초 데이터 분할 (Train / Final Test) ---\n",
        "# 전체 데이터의 80%를 훈련+검증 세트로, 20%를 최종 테스트 세트로 분할합니다.\n",
        "split_ratio = 0.8\n",
        "split_index = int(len(X_raw) * split_ratio)\n",
        "\n",
        "X_train_val, y_train_val = X_raw[:split_index], y[:split_index]\n",
        "X_final_test, y_final_test = X_raw[split_index:], y[split_index:]\n",
        "\n",
        "print(f\"전체 데이터: {len(X_raw)}개\")\n",
        "print(f\"훈련+검증 세트 (80%): {len(X_train_val)}개\")\n",
        "print(f\"최종 테스트 세트 (20%): {len(X_final_test)}개\")\n",
        "print(\"-\" * 50)\n",
        "\n",
        "\n",
        "# --- 3. 모델 및 평가 함수 정의 ---\n",
        "def create_lstm_model(input_shape):\n",
        "    model = Sequential()\n",
        "    model.add(LSTM(45, activation='tanh', return_sequences=True, input_shape=input_shape))\n",
        "    model.add(LSTM(22, activation='tanh'))\n",
        "    model.add(Dense(1))\n",
        "    model.compile(optimizer='rmsprop', loss='mse')\n",
        "    return model\n",
        "\n",
        "def evaluate(y_true, y_pred):\n",
        "    return {\n",
        "        'R2': r2_score(y_true, y_pred),\n",
        "        'RMSE': np.sqrt(mean_squared_error(y_true, y_pred)),\n",
        "        'MAE': mean_absolute_error(y_true, y_pred)\n",
        "    }\n",
        "\n",
        "# --- 4. 훈련 세트 내 중첩 교차 검증 (모델 선택 단계) ---\n",
        "n_runs = 5  # 시간 단축을 위해 RUN 횟수 조정\n",
        "n_splits = 5\n",
        "results_svr, results_lstm = [], []\n",
        "\n",
        "print(f\"=== 훈련 세트 내 SVR vs LSTM 교차 검증 시작 (N_Runs={n_runs}, K-Folds={n_splits}) ===\")\n",
        "for i in range(n_runs):\n",
        "    print(f\"\\n>> RUN {i+1}/{n_runs} 시작 <<\")\n",
        "    fold_scores_svr, fold_scores_lstm = [], []\n",
        "    # 훈련+검증 세트 내에서만 TimeSeriesSplit 수행\n",
        "    tscv = TimeSeriesSplit(n_splits=n_splits)\n",
        "    for fold, (train_index, val_index) in enumerate(tscv.split(X_train_val)):\n",
        "        print(f\"  - Fold {fold+1}/{n_splits} 진행 중...\")\n",
        "        X_train, X_val = X_train_val[train_index], X_train_val[val_index]\n",
        "        y_train, y_val = y_train_val[train_index], y_train_val[val_index]\n",
        "\n",
        "        # SVR\n",
        "        X_train_svr, X_val_svr = X_train.reshape(len(X_train), -1), X_val.reshape(len(X_val), -1)\n",
        "        svr_model = SVR().fit(X_train_svr, y_train)\n",
        "        y_pred_svr = svr_model.predict(X_val_svr)\n",
        "        fold_scores_svr.append(evaluate(y_val, y_pred_svr))\n",
        "\n",
        "        # LSTM\n",
        "        input_shape = (X_train.shape[1], X_train.shape[2])\n",
        "        lstm_model = create_lstm_model(input_shape)\n",
        "        lstm_es = EarlyStopping(monitor='val_loss', patience=10, restore_best_weights=True)\n",
        "        lstm_model.fit(X_train, y_train, validation_data=(X_val, y_val),\n",
        "                       epochs=200, callbacks=[lstm_es], batch_size=64, verbose=0)\n",
        "        y_pred_lstm = lstm_model.predict(X_val, verbose=0).flatten()\n",
        "        fold_scores_lstm.append(evaluate(y_val, y_pred_lstm))\n",
        "\n",
        "    results_svr.append(pd.DataFrame(fold_scores_svr[1:]).mean().to_dict())\n",
        "    results_lstm.append(pd.DataFrame(fold_scores_lstm[1:]).mean().to_dict())\n",
        "\n",
        "# --- 5. 교차 검증 결과 분석 및 최종 모델 선택 ---\n",
        "df_results_svr = pd.DataFrame(results_svr)\n",
        "df_results_lstm = pd.DataFrame(results_lstm)\n",
        "\n",
        "mean_r2_svr = df_results_svr['R2'].mean()\n",
        "mean_r2_lstm = df_results_lstm['R2'].mean()\n",
        "\n",
        "print(\"\\n\\n\" + \"=\"*50)\n",
        "print(\">>> 교차 검증 평균 성능 (모델 선택용) <<<\")\n",
        "print(f\"SVR  평균 R2: {mean_r2_svr:.4f}\")\n",
        "print(f\"LSTM 평균 R2: {mean_r2_lstm:.4f}\")\n",
        "\n",
        "# R2 점수가 더 높은 모델을 최종 모델로 선택\n",
        "best_model_name = 'LSTM' if mean_r2_lstm > mean_r2_svr else 'SVR'\n",
        "print(f\"\\n>> 최종 모델로 '{best_model_name}' 선택 <<\")\n",
        "print(\"=\"*50)\n",
        "\n",
        "\n",
        "# --- 6. 최종 모델 훈련 및 평가 ---\n",
        "print(\"\\n=== 최종 모델 훈련 및 평가 시작 ===\")\n",
        "# 전체 훈련+검증 세트로 최종 모델을 다시 학습\n",
        "if best_model_name == 'LSTM':\n",
        "    print(\"LSTM 모델을 전체 훈련 데이터로 재학습합니다...\")\n",
        "    final_model = create_lstm_model((X_train_val.shape[1], X_train_val.shape[2]))\n",
        "    # 최종 테스트셋에 대한 EarlyStopping은 의미가 없으므로, 최적 epoch를 찾기 위해 전체 데이터로 학습\n",
        "    final_model.fit(X_train_val, y_train_val, epochs=80, batch_size=64, verbose=0) # Epoch는 이전 CV에서 수렴한 평균 epoch 정도로 설정\n",
        "\n",
        "    # 최종 테스트 세트로 성능 평가\n",
        "    y_final_pred = final_model.predict(X_final_test, verbose=0).flatten()\n",
        "else:\n",
        "    print(\"SVR 모델을 전체 훈련 데이터로 재학습합니다...\")\n",
        "    X_train_val_svr = X_train_val.reshape(len(X_train_val), -1)\n",
        "    X_final_test_svr = X_final_test.reshape(len(X_final_test), -1)\n",
        "\n",
        "    final_model = SVR()\n",
        "    final_model.fit(X_train_val_svr, y_train_val)\n",
        "\n",
        "    # 최종 테스트 세트로 성능 평가\n",
        "    y_final_pred = final_model.predict(X_final_test_svr)\n",
        "\n",
        "final_performance = evaluate(y_final_test, y_final_pred)\n",
        "\n",
        "print(\"\\n\\n\" + \"=\"*50)\n",
        "print(f\">>> 최종 모델의 성능 (Final Test Set) <<<\")\n",
        "print(\"=\"*50)\n",
        "print(f\"  - R2:   {final_performance['R2']:.4f}\")\n",
        "print(f\"  - RMSE: {final_performance['RMSE']:.2f}\")\n",
        "print(f\"  - MAE:  {final_performance['MAE']:.2f}\")\n",
        "print(\"=\"*50)"
      ],
      "metadata": {
        "colab": {
          "base_uri": "https://localhost:8080/"
        },
        "id": "ufC-rKA692jh",
        "outputId": "4c30663a-e2e9-44cc-e1a1-98eac8a2830c"
      },
      "execution_count": 2,
      "outputs": [
        {
          "output_type": "stream",
          "name": "stdout",
          "text": [
            "전체 데이터: 1820개\n",
            "훈련+검증 세트 (80%): 1456개\n",
            "최종 테스트 세트 (20%): 364개\n",
            "--------------------------------------------------\n",
            "=== 훈련 세트 내 SVR vs LSTM 교차 검증 시작 (N_Runs=5, K-Folds=5) ===\n",
            "\n",
            ">> RUN 1/5 시작 <<\n",
            "  - Fold 1/5 진행 중...\n"
          ]
        },
        {
          "output_type": "stream",
          "name": "stderr",
          "text": [
            "/usr/local/lib/python3.11/dist-packages/keras/src/layers/rnn/rnn.py:200: UserWarning: Do not pass an `input_shape`/`input_dim` argument to a layer. When using Sequential models, prefer using an `Input(shape)` object as the first layer in the model instead.\n",
            "  super().__init__(**kwargs)\n"
          ]
        },
        {
          "output_type": "stream",
          "name": "stdout",
          "text": [
            "  - Fold 2/5 진행 중...\n"
          ]
        },
        {
          "output_type": "stream",
          "name": "stderr",
          "text": [
            "/usr/local/lib/python3.11/dist-packages/keras/src/layers/rnn/rnn.py:200: UserWarning: Do not pass an `input_shape`/`input_dim` argument to a layer. When using Sequential models, prefer using an `Input(shape)` object as the first layer in the model instead.\n",
            "  super().__init__(**kwargs)\n"
          ]
        },
        {
          "output_type": "stream",
          "name": "stdout",
          "text": [
            "  - Fold 3/5 진행 중...\n"
          ]
        },
        {
          "output_type": "stream",
          "name": "stderr",
          "text": [
            "/usr/local/lib/python3.11/dist-packages/keras/src/layers/rnn/rnn.py:200: UserWarning: Do not pass an `input_shape`/`input_dim` argument to a layer. When using Sequential models, prefer using an `Input(shape)` object as the first layer in the model instead.\n",
            "  super().__init__(**kwargs)\n"
          ]
        },
        {
          "output_type": "stream",
          "name": "stdout",
          "text": [
            "  - Fold 4/5 진행 중...\n"
          ]
        },
        {
          "output_type": "stream",
          "name": "stderr",
          "text": [
            "/usr/local/lib/python3.11/dist-packages/keras/src/layers/rnn/rnn.py:200: UserWarning: Do not pass an `input_shape`/`input_dim` argument to a layer. When using Sequential models, prefer using an `Input(shape)` object as the first layer in the model instead.\n",
            "  super().__init__(**kwargs)\n"
          ]
        },
        {
          "output_type": "stream",
          "name": "stdout",
          "text": [
            "  - Fold 5/5 진행 중...\n"
          ]
        },
        {
          "output_type": "stream",
          "name": "stderr",
          "text": [
            "/usr/local/lib/python3.11/dist-packages/keras/src/layers/rnn/rnn.py:200: UserWarning: Do not pass an `input_shape`/`input_dim` argument to a layer. When using Sequential models, prefer using an `Input(shape)` object as the first layer in the model instead.\n",
            "  super().__init__(**kwargs)\n"
          ]
        },
        {
          "output_type": "stream",
          "name": "stdout",
          "text": [
            "\n",
            ">> RUN 2/5 시작 <<\n",
            "  - Fold 1/5 진행 중...\n"
          ]
        },
        {
          "output_type": "stream",
          "name": "stderr",
          "text": [
            "/usr/local/lib/python3.11/dist-packages/keras/src/layers/rnn/rnn.py:200: UserWarning: Do not pass an `input_shape`/`input_dim` argument to a layer. When using Sequential models, prefer using an `Input(shape)` object as the first layer in the model instead.\n",
            "  super().__init__(**kwargs)\n"
          ]
        },
        {
          "output_type": "stream",
          "name": "stdout",
          "text": [
            "  - Fold 2/5 진행 중...\n"
          ]
        },
        {
          "output_type": "stream",
          "name": "stderr",
          "text": [
            "/usr/local/lib/python3.11/dist-packages/keras/src/layers/rnn/rnn.py:200: UserWarning: Do not pass an `input_shape`/`input_dim` argument to a layer. When using Sequential models, prefer using an `Input(shape)` object as the first layer in the model instead.\n",
            "  super().__init__(**kwargs)\n"
          ]
        },
        {
          "output_type": "stream",
          "name": "stdout",
          "text": [
            "  - Fold 3/5 진행 중...\n"
          ]
        },
        {
          "output_type": "stream",
          "name": "stderr",
          "text": [
            "/usr/local/lib/python3.11/dist-packages/keras/src/layers/rnn/rnn.py:200: UserWarning: Do not pass an `input_shape`/`input_dim` argument to a layer. When using Sequential models, prefer using an `Input(shape)` object as the first layer in the model instead.\n",
            "  super().__init__(**kwargs)\n"
          ]
        },
        {
          "output_type": "stream",
          "name": "stdout",
          "text": [
            "  - Fold 4/5 진행 중...\n"
          ]
        },
        {
          "output_type": "stream",
          "name": "stderr",
          "text": [
            "/usr/local/lib/python3.11/dist-packages/keras/src/layers/rnn/rnn.py:200: UserWarning: Do not pass an `input_shape`/`input_dim` argument to a layer. When using Sequential models, prefer using an `Input(shape)` object as the first layer in the model instead.\n",
            "  super().__init__(**kwargs)\n"
          ]
        },
        {
          "output_type": "stream",
          "name": "stdout",
          "text": [
            "  - Fold 5/5 진행 중...\n"
          ]
        },
        {
          "output_type": "stream",
          "name": "stderr",
          "text": [
            "/usr/local/lib/python3.11/dist-packages/keras/src/layers/rnn/rnn.py:200: UserWarning: Do not pass an `input_shape`/`input_dim` argument to a layer. When using Sequential models, prefer using an `Input(shape)` object as the first layer in the model instead.\n",
            "  super().__init__(**kwargs)\n"
          ]
        },
        {
          "output_type": "stream",
          "name": "stdout",
          "text": [
            "\n",
            ">> RUN 3/5 시작 <<\n",
            "  - Fold 1/5 진행 중...\n"
          ]
        },
        {
          "output_type": "stream",
          "name": "stderr",
          "text": [
            "/usr/local/lib/python3.11/dist-packages/keras/src/layers/rnn/rnn.py:200: UserWarning: Do not pass an `input_shape`/`input_dim` argument to a layer. When using Sequential models, prefer using an `Input(shape)` object as the first layer in the model instead.\n",
            "  super().__init__(**kwargs)\n"
          ]
        },
        {
          "output_type": "stream",
          "name": "stdout",
          "text": [
            "  - Fold 2/5 진행 중...\n"
          ]
        },
        {
          "output_type": "stream",
          "name": "stderr",
          "text": [
            "/usr/local/lib/python3.11/dist-packages/keras/src/layers/rnn/rnn.py:200: UserWarning: Do not pass an `input_shape`/`input_dim` argument to a layer. When using Sequential models, prefer using an `Input(shape)` object as the first layer in the model instead.\n",
            "  super().__init__(**kwargs)\n"
          ]
        },
        {
          "output_type": "stream",
          "name": "stdout",
          "text": [
            "  - Fold 3/5 진행 중...\n"
          ]
        },
        {
          "output_type": "stream",
          "name": "stderr",
          "text": [
            "/usr/local/lib/python3.11/dist-packages/keras/src/layers/rnn/rnn.py:200: UserWarning: Do not pass an `input_shape`/`input_dim` argument to a layer. When using Sequential models, prefer using an `Input(shape)` object as the first layer in the model instead.\n",
            "  super().__init__(**kwargs)\n"
          ]
        },
        {
          "output_type": "stream",
          "name": "stdout",
          "text": [
            "  - Fold 4/5 진행 중...\n"
          ]
        },
        {
          "output_type": "stream",
          "name": "stderr",
          "text": [
            "/usr/local/lib/python3.11/dist-packages/keras/src/layers/rnn/rnn.py:200: UserWarning: Do not pass an `input_shape`/`input_dim` argument to a layer. When using Sequential models, prefer using an `Input(shape)` object as the first layer in the model instead.\n",
            "  super().__init__(**kwargs)\n"
          ]
        },
        {
          "output_type": "stream",
          "name": "stdout",
          "text": [
            "  - Fold 5/5 진행 중...\n"
          ]
        },
        {
          "output_type": "stream",
          "name": "stderr",
          "text": [
            "/usr/local/lib/python3.11/dist-packages/keras/src/layers/rnn/rnn.py:200: UserWarning: Do not pass an `input_shape`/`input_dim` argument to a layer. When using Sequential models, prefer using an `Input(shape)` object as the first layer in the model instead.\n",
            "  super().__init__(**kwargs)\n"
          ]
        },
        {
          "output_type": "stream",
          "name": "stdout",
          "text": [
            "\n",
            ">> RUN 4/5 시작 <<\n",
            "  - Fold 1/5 진행 중...\n"
          ]
        },
        {
          "output_type": "stream",
          "name": "stderr",
          "text": [
            "/usr/local/lib/python3.11/dist-packages/keras/src/layers/rnn/rnn.py:200: UserWarning: Do not pass an `input_shape`/`input_dim` argument to a layer. When using Sequential models, prefer using an `Input(shape)` object as the first layer in the model instead.\n",
            "  super().__init__(**kwargs)\n"
          ]
        },
        {
          "output_type": "stream",
          "name": "stdout",
          "text": [
            "  - Fold 2/5 진행 중...\n"
          ]
        },
        {
          "output_type": "stream",
          "name": "stderr",
          "text": [
            "/usr/local/lib/python3.11/dist-packages/keras/src/layers/rnn/rnn.py:200: UserWarning: Do not pass an `input_shape`/`input_dim` argument to a layer. When using Sequential models, prefer using an `Input(shape)` object as the first layer in the model instead.\n",
            "  super().__init__(**kwargs)\n"
          ]
        },
        {
          "output_type": "stream",
          "name": "stdout",
          "text": [
            "  - Fold 3/5 진행 중...\n"
          ]
        },
        {
          "output_type": "stream",
          "name": "stderr",
          "text": [
            "/usr/local/lib/python3.11/dist-packages/keras/src/layers/rnn/rnn.py:200: UserWarning: Do not pass an `input_shape`/`input_dim` argument to a layer. When using Sequential models, prefer using an `Input(shape)` object as the first layer in the model instead.\n",
            "  super().__init__(**kwargs)\n"
          ]
        },
        {
          "output_type": "stream",
          "name": "stdout",
          "text": [
            "  - Fold 4/5 진행 중...\n"
          ]
        },
        {
          "output_type": "stream",
          "name": "stderr",
          "text": [
            "/usr/local/lib/python3.11/dist-packages/keras/src/layers/rnn/rnn.py:200: UserWarning: Do not pass an `input_shape`/`input_dim` argument to a layer. When using Sequential models, prefer using an `Input(shape)` object as the first layer in the model instead.\n",
            "  super().__init__(**kwargs)\n"
          ]
        },
        {
          "output_type": "stream",
          "name": "stdout",
          "text": [
            "  - Fold 5/5 진행 중...\n"
          ]
        },
        {
          "output_type": "stream",
          "name": "stderr",
          "text": [
            "/usr/local/lib/python3.11/dist-packages/keras/src/layers/rnn/rnn.py:200: UserWarning: Do not pass an `input_shape`/`input_dim` argument to a layer. When using Sequential models, prefer using an `Input(shape)` object as the first layer in the model instead.\n",
            "  super().__init__(**kwargs)\n"
          ]
        },
        {
          "output_type": "stream",
          "name": "stdout",
          "text": [
            "\n",
            ">> RUN 5/5 시작 <<\n",
            "  - Fold 1/5 진행 중...\n"
          ]
        },
        {
          "output_type": "stream",
          "name": "stderr",
          "text": [
            "/usr/local/lib/python3.11/dist-packages/keras/src/layers/rnn/rnn.py:200: UserWarning: Do not pass an `input_shape`/`input_dim` argument to a layer. When using Sequential models, prefer using an `Input(shape)` object as the first layer in the model instead.\n",
            "  super().__init__(**kwargs)\n"
          ]
        },
        {
          "output_type": "stream",
          "name": "stdout",
          "text": [
            "  - Fold 2/5 진행 중...\n"
          ]
        },
        {
          "output_type": "stream",
          "name": "stderr",
          "text": [
            "/usr/local/lib/python3.11/dist-packages/keras/src/layers/rnn/rnn.py:200: UserWarning: Do not pass an `input_shape`/`input_dim` argument to a layer. When using Sequential models, prefer using an `Input(shape)` object as the first layer in the model instead.\n",
            "  super().__init__(**kwargs)\n"
          ]
        },
        {
          "output_type": "stream",
          "name": "stdout",
          "text": [
            "  - Fold 3/5 진행 중...\n"
          ]
        },
        {
          "output_type": "stream",
          "name": "stderr",
          "text": [
            "/usr/local/lib/python3.11/dist-packages/keras/src/layers/rnn/rnn.py:200: UserWarning: Do not pass an `input_shape`/`input_dim` argument to a layer. When using Sequential models, prefer using an `Input(shape)` object as the first layer in the model instead.\n",
            "  super().__init__(**kwargs)\n"
          ]
        },
        {
          "output_type": "stream",
          "name": "stdout",
          "text": [
            "  - Fold 4/5 진행 중...\n"
          ]
        },
        {
          "output_type": "stream",
          "name": "stderr",
          "text": [
            "/usr/local/lib/python3.11/dist-packages/keras/src/layers/rnn/rnn.py:200: UserWarning: Do not pass an `input_shape`/`input_dim` argument to a layer. When using Sequential models, prefer using an `Input(shape)` object as the first layer in the model instead.\n",
            "  super().__init__(**kwargs)\n"
          ]
        },
        {
          "output_type": "stream",
          "name": "stdout",
          "text": [
            "  - Fold 5/5 진행 중...\n"
          ]
        },
        {
          "output_type": "stream",
          "name": "stderr",
          "text": [
            "/usr/local/lib/python3.11/dist-packages/keras/src/layers/rnn/rnn.py:200: UserWarning: Do not pass an `input_shape`/`input_dim` argument to a layer. When using Sequential models, prefer using an `Input(shape)` object as the first layer in the model instead.\n",
            "  super().__init__(**kwargs)\n"
          ]
        },
        {
          "output_type": "stream",
          "name": "stdout",
          "text": [
            "\n",
            "\n",
            "==================================================\n",
            ">>> 교차 검증 평균 성능 (모델 선택용) <<<\n",
            "SVR  평균 R2: 0.1941\n",
            "LSTM 평균 R2: 0.2427\n",
            "\n",
            ">> 최종 모델로 'LSTM' 선택 <<\n",
            "==================================================\n",
            "\n",
            "=== 최종 모델 훈련 및 평가 시작 ===\n",
            "LSTM 모델을 전체 훈련 데이터로 재학습합니다...\n"
          ]
        },
        {
          "output_type": "stream",
          "name": "stderr",
          "text": [
            "/usr/local/lib/python3.11/dist-packages/keras/src/layers/rnn/rnn.py:200: UserWarning: Do not pass an `input_shape`/`input_dim` argument to a layer. When using Sequential models, prefer using an `Input(shape)` object as the first layer in the model instead.\n",
            "  super().__init__(**kwargs)\n"
          ]
        },
        {
          "output_type": "stream",
          "name": "stdout",
          "text": [
            "\n",
            "\n",
            "==================================================\n",
            ">>> 최종 모델의 성능 (Final Test Set) <<<\n",
            "==================================================\n",
            "  - R2:   0.4480\n",
            "  - RMSE: 0.09\n",
            "  - MAE:  0.07\n",
            "==================================================\n"
          ]
        }
      ]
    },
    {
      "cell_type": "code",
      "source": [
        "import pandas as pd\n",
        "import numpy as np\n",
        "import warnings\n",
        "\n",
        "# Scikit-learn 라이브러리\n",
        "from sklearn.model_selection import TimeSeriesSplit\n",
        "from sklearn.svm import SVR\n",
        "from sklearn.metrics import r2_score, mean_squared_error, mean_absolute_error\n",
        "\n",
        "# TensorFlow / Keras 라이브러리\n",
        "import tensorflow as tf\n",
        "from tensorflow.keras.models import Sequential\n",
        "from tensorflow.keras.layers import LSTM, Dense\n",
        "from tensorflow.keras.callbacks import EarlyStopping\n",
        "\n",
        "# 경고 메시지 비활성화\n",
        "warnings.filterwarnings('ignore', category=FutureWarning)\n",
        "tf.get_logger().setLevel('ERROR')\n",
        "\n",
        "# --- 1. 데이터 준비 ---\n",
        "try:\n",
        "    df10 = pd.read_csv('pm25.csv')\n",
        "except FileNotFoundError:\n",
        "    print(\"pm25.csv 파일을 찾을 수 없습니다. 스크립트와 동일한 디렉토리에 있는지 확인하세요.\")\n",
        "    exit()\n",
        "\n",
        "features = ['PM10', '오 존', '이산화질소', '일산화탄소', '아황산가스',\n",
        "            '평균기온(°C)', '평균 풍속(m/s)', '평균 상대습도(%)', '평균 현지기압(hPa)', 'PM2.5_MA7', 'PM2.5_MA30', 'PM2.5lag',\n",
        "            'Autumn', 'Spring', 'Summer', 'Winter']\n",
        "\n",
        "X_raw, y = [], []\n",
        "for i in range(7, len(df10)):\n",
        "    X_raw.append(df10.loc[i-7:i-1, features].values)\n",
        "    y.append(df10.loc[i, 'PM2.5'])\n",
        "\n",
        "X_raw = np.array(X_raw)\n",
        "y = np.array(y)\n",
        "\n",
        "# --- 2. 최초 데이터 분할 (Train / Final Test) ---\n",
        "# 전체 데이터의 80%를 훈련+검증 세트로, 20%를 최종 테스트 세트로 분할합니다.\n",
        "split_ratio = 0.8\n",
        "split_index = int(len(X_raw) * split_ratio)\n",
        "\n",
        "X_train_val, y_train_val = X_raw[:split_index], y[:split_index]\n",
        "X_final_test, y_final_test = X_raw[split_index:], y[split_index:]\n",
        "\n",
        "print(f\"전체 데이터: {len(X_raw)}개\")\n",
        "print(f\"훈련+검증 세트 (80%): {len(X_train_val)}개\")\n",
        "print(f\"최종 테스트 세트 (20%): {len(X_final_test)}개\")\n",
        "print(\"-\" * 50)\n",
        "\n",
        "\n",
        "# --- 3. 모델 및 평가 함수 정의 ---\n",
        "def create_lstm_model(input_shape):\n",
        "    model = Sequential()\n",
        "    model.add(LSTM(45, activation='tanh', return_sequences=True, input_shape=input_shape))\n",
        "    model.add(LSTM(22, activation='tanh'))\n",
        "    model.add(Dense(1))\n",
        "    model.compile(optimizer='rmsprop', loss='mse')\n",
        "    return model\n",
        "\n",
        "def evaluate(y_true, y_pred):\n",
        "    return {\n",
        "        'R2': r2_score(y_true, y_pred),\n",
        "        'RMSE': np.sqrt(mean_squared_error(y_true, y_pred)),\n",
        "        'MAE': mean_absolute_error(y_true, y_pred)\n",
        "    }\n",
        "\n",
        "# --- 4. 훈련 세트 내 중첩 교차 검증 (모델 선택 단계) ---\n",
        "n_runs = 5  # 시간 단축을 위해 RUN 횟수 조정\n",
        "n_splits = 5\n",
        "results_svr, results_lstm = [], []\n",
        "\n",
        "print(f\"=== 훈련 세트 내 SVR vs LSTM 교차 검증 시작 (N_Runs={n_runs}, K-Folds={n_splits}) ===\")\n",
        "for i in range(n_runs):\n",
        "    print(f\"\\n>> RUN {i+1}/{n_runs} 시작 <<\")\n",
        "    fold_scores_svr, fold_scores_lstm = [], []\n",
        "    # 훈련+검증 세트 내에서만 TimeSeriesSplit 수행\n",
        "    tscv = TimeSeriesSplit(n_splits=n_splits)\n",
        "    for fold, (train_index, val_index) in enumerate(tscv.split(X_train_val)):\n",
        "        print(f\"  - Fold {fold+1}/{n_splits} 진행 중...\")\n",
        "        X_train, X_val = X_train_val[train_index], X_train_val[val_index]\n",
        "        y_train, y_val = y_train_val[train_index], y_train_val[val_index]\n",
        "\n",
        "        # SVR\n",
        "        X_train_svr, X_val_svr = X_train.reshape(len(X_train), -1), X_val.reshape(len(X_val), -1)\n",
        "        svr_model = SVR().fit(X_train_svr, y_train)\n",
        "        y_pred_svr = svr_model.predict(X_val_svr)\n",
        "        fold_scores_svr.append(evaluate(y_val, y_pred_svr))\n",
        "\n",
        "        # LSTM\n",
        "        input_shape = (X_train.shape[1], X_train.shape[2])\n",
        "        lstm_model = create_lstm_model(input_shape)\n",
        "        lstm_es = EarlyStopping(monitor='val_loss', patience=10, restore_best_weights=True)\n",
        "        lstm_model.fit(X_train, y_train, validation_data=(X_val, y_val),\n",
        "                       epochs=200, callbacks=[lstm_es], batch_size=64, verbose=0)\n",
        "        y_pred_lstm = lstm_model.predict(X_val, verbose=0).flatten()\n",
        "        fold_scores_lstm.append(evaluate(y_val, y_pred_lstm))\n",
        "\n",
        "    results_svr.append(pd.DataFrame(fold_scores_svr[1:]).mean().to_dict())\n",
        "    results_lstm.append(pd.DataFrame(fold_scores_lstm[1:]).mean().to_dict())\n",
        "\n",
        "# --- 5. 교차 검증 결과 분석 및 최종 모델 선택 ---\n",
        "df_results_svr = pd.DataFrame(results_svr)\n",
        "df_results_lstm = pd.DataFrame(results_lstm)\n",
        "\n",
        "mean_r2_svr = df_results_svr['R2'].mean()\n",
        "mean_r2_lstm = df_results_lstm['R2'].mean()\n",
        "\n",
        "print(\"\\n\\n\" + \"=\"*50)\n",
        "print(\">>> 교차 검증 평균 성능 (모델 선택용) <<<\")\n",
        "print(f\"SVR  평균 R2: {mean_r2_svr:.4f}\")\n",
        "print(f\"LSTM 평균 R2: {mean_r2_lstm:.4f}\")\n",
        "\n",
        "# R2 점수가 더 높은 모델을 최종 모델로 선택\n",
        "best_model_name = 'LSTM' if mean_r2_lstm > mean_r2_svr else 'SVR'\n",
        "print(f\"\\n>> 최종 모델로 '{best_model_name}' 선택 <<\")\n",
        "print(\"=\"*50)\n",
        "\n",
        "\n",
        "# --- 6. 최종 모델 훈련 및 평가 ---\n",
        "print(\"\\n=== 최종 모델 훈련 및 평가 시작 ===\")\n",
        "# 전체 훈련+검증 세트로 최종 모델을 다시 학습\n",
        "if best_model_name == 'LSTM':\n",
        "    print(\"LSTM 모델을 전체 훈련 데이터로 재학습합니다...\")\n",
        "    final_model = create_lstm_model((X_train_val.shape[1], X_train_val.shape[2]))\n",
        "    # 최종 테스트셋에 대한 EarlyStopping은 의미가 없으므로, 최적 epoch를 찾기 위해 전체 데이터로 학습\n",
        "    final_model.fit(X_train_val, y_train_val, epochs=80, batch_size=64, verbose=0) # Epoch는 이전 CV에서 수렴한 평균 epoch 정도로 설정\n",
        "\n",
        "    # 최종 테스트 세트로 성능 평가\n",
        "    y_final_pred = final_model.predict(X_final_test, verbose=0).flatten()\n",
        "else:\n",
        "    print(\"SVR 모델을 전체 훈련 데이터로 재학습합니다...\")\n",
        "    X_train_val_svr = X_train_val.reshape(len(X_train_val), -1)\n",
        "    X_final_test_svr = X_final_test.reshape(len(X_final_test), -1)\n",
        "\n",
        "    final_model = SVR()\n",
        "    final_model.fit(X_train_val_svr, y_train_val)\n",
        "\n",
        "    # 최종 테스트 세트로 성능 평가\n",
        "    y_final_pred = final_model.predict(X_final_test_svr)\n",
        "\n",
        "final_performance = evaluate(y_final_test, y_final_pred)\n",
        "\n",
        "print(\"\\n\\n\" + \"=\"*50)\n",
        "print(f\">>> 최종 모델의 성능 (Final Test Set) <<<\")\n",
        "print(\"=\"*50)\n",
        "print(f\"  - R2:   {final_performance['R2']:.4f}\")\n",
        "print(f\"  - RMSE: {final_performance['RMSE']:.2f}\")\n",
        "print(f\"  - MAE:  {final_performance['MAE']:.2f}\")\n",
        "print(\"=\"*50)"
      ],
      "metadata": {
        "colab": {
          "base_uri": "https://localhost:8080/"
        },
        "id": "Ofvlix8kE72W",
        "outputId": "9aba9e4d-c3d3-4d38-e336-a622d8f34873"
      },
      "execution_count": 3,
      "outputs": [
        {
          "output_type": "stream",
          "name": "stdout",
          "text": [
            "전체 데이터: 1820개\n",
            "훈련+검증 세트 (80%): 1456개\n",
            "최종 테스트 세트 (20%): 364개\n",
            "--------------------------------------------------\n",
            "=== 훈련 세트 내 SVR vs LSTM 교차 검증 시작 (N_Runs=5, K-Folds=5) ===\n",
            "\n",
            ">> RUN 1/5 시작 <<\n",
            "  - Fold 1/5 진행 중...\n"
          ]
        },
        {
          "output_type": "stream",
          "name": "stderr",
          "text": [
            "/usr/local/lib/python3.11/dist-packages/keras/src/layers/rnn/rnn.py:200: UserWarning: Do not pass an `input_shape`/`input_dim` argument to a layer. When using Sequential models, prefer using an `Input(shape)` object as the first layer in the model instead.\n",
            "  super().__init__(**kwargs)\n"
          ]
        },
        {
          "output_type": "stream",
          "name": "stdout",
          "text": [
            "  - Fold 2/5 진행 중...\n"
          ]
        },
        {
          "output_type": "stream",
          "name": "stderr",
          "text": [
            "/usr/local/lib/python3.11/dist-packages/keras/src/layers/rnn/rnn.py:200: UserWarning: Do not pass an `input_shape`/`input_dim` argument to a layer. When using Sequential models, prefer using an `Input(shape)` object as the first layer in the model instead.\n",
            "  super().__init__(**kwargs)\n"
          ]
        },
        {
          "output_type": "stream",
          "name": "stdout",
          "text": [
            "  - Fold 3/5 진행 중...\n"
          ]
        },
        {
          "output_type": "stream",
          "name": "stderr",
          "text": [
            "/usr/local/lib/python3.11/dist-packages/keras/src/layers/rnn/rnn.py:200: UserWarning: Do not pass an `input_shape`/`input_dim` argument to a layer. When using Sequential models, prefer using an `Input(shape)` object as the first layer in the model instead.\n",
            "  super().__init__(**kwargs)\n"
          ]
        },
        {
          "output_type": "stream",
          "name": "stdout",
          "text": [
            "  - Fold 4/5 진행 중...\n"
          ]
        },
        {
          "output_type": "stream",
          "name": "stderr",
          "text": [
            "/usr/local/lib/python3.11/dist-packages/keras/src/layers/rnn/rnn.py:200: UserWarning: Do not pass an `input_shape`/`input_dim` argument to a layer. When using Sequential models, prefer using an `Input(shape)` object as the first layer in the model instead.\n",
            "  super().__init__(**kwargs)\n"
          ]
        },
        {
          "output_type": "stream",
          "name": "stdout",
          "text": [
            "  - Fold 5/5 진행 중...\n"
          ]
        },
        {
          "output_type": "stream",
          "name": "stderr",
          "text": [
            "/usr/local/lib/python3.11/dist-packages/keras/src/layers/rnn/rnn.py:200: UserWarning: Do not pass an `input_shape`/`input_dim` argument to a layer. When using Sequential models, prefer using an `Input(shape)` object as the first layer in the model instead.\n",
            "  super().__init__(**kwargs)\n"
          ]
        },
        {
          "output_type": "stream",
          "name": "stdout",
          "text": [
            "\n",
            ">> RUN 2/5 시작 <<\n",
            "  - Fold 1/5 진행 중...\n"
          ]
        },
        {
          "output_type": "stream",
          "name": "stderr",
          "text": [
            "/usr/local/lib/python3.11/dist-packages/keras/src/layers/rnn/rnn.py:200: UserWarning: Do not pass an `input_shape`/`input_dim` argument to a layer. When using Sequential models, prefer using an `Input(shape)` object as the first layer in the model instead.\n",
            "  super().__init__(**kwargs)\n"
          ]
        },
        {
          "output_type": "stream",
          "name": "stdout",
          "text": [
            "  - Fold 2/5 진행 중...\n"
          ]
        },
        {
          "output_type": "stream",
          "name": "stderr",
          "text": [
            "/usr/local/lib/python3.11/dist-packages/keras/src/layers/rnn/rnn.py:200: UserWarning: Do not pass an `input_shape`/`input_dim` argument to a layer. When using Sequential models, prefer using an `Input(shape)` object as the first layer in the model instead.\n",
            "  super().__init__(**kwargs)\n"
          ]
        },
        {
          "output_type": "stream",
          "name": "stdout",
          "text": [
            "  - Fold 3/5 진행 중...\n"
          ]
        },
        {
          "output_type": "stream",
          "name": "stderr",
          "text": [
            "/usr/local/lib/python3.11/dist-packages/keras/src/layers/rnn/rnn.py:200: UserWarning: Do not pass an `input_shape`/`input_dim` argument to a layer. When using Sequential models, prefer using an `Input(shape)` object as the first layer in the model instead.\n",
            "  super().__init__(**kwargs)\n"
          ]
        },
        {
          "output_type": "stream",
          "name": "stdout",
          "text": [
            "  - Fold 4/5 진행 중...\n"
          ]
        },
        {
          "output_type": "stream",
          "name": "stderr",
          "text": [
            "/usr/local/lib/python3.11/dist-packages/keras/src/layers/rnn/rnn.py:200: UserWarning: Do not pass an `input_shape`/`input_dim` argument to a layer. When using Sequential models, prefer using an `Input(shape)` object as the first layer in the model instead.\n",
            "  super().__init__(**kwargs)\n"
          ]
        },
        {
          "output_type": "stream",
          "name": "stdout",
          "text": [
            "  - Fold 5/5 진행 중...\n"
          ]
        },
        {
          "output_type": "stream",
          "name": "stderr",
          "text": [
            "/usr/local/lib/python3.11/dist-packages/keras/src/layers/rnn/rnn.py:200: UserWarning: Do not pass an `input_shape`/`input_dim` argument to a layer. When using Sequential models, prefer using an `Input(shape)` object as the first layer in the model instead.\n",
            "  super().__init__(**kwargs)\n"
          ]
        },
        {
          "output_type": "stream",
          "name": "stdout",
          "text": [
            "\n",
            ">> RUN 3/5 시작 <<\n",
            "  - Fold 1/5 진행 중...\n"
          ]
        },
        {
          "output_type": "stream",
          "name": "stderr",
          "text": [
            "/usr/local/lib/python3.11/dist-packages/keras/src/layers/rnn/rnn.py:200: UserWarning: Do not pass an `input_shape`/`input_dim` argument to a layer. When using Sequential models, prefer using an `Input(shape)` object as the first layer in the model instead.\n",
            "  super().__init__(**kwargs)\n"
          ]
        },
        {
          "output_type": "stream",
          "name": "stdout",
          "text": [
            "  - Fold 2/5 진행 중...\n"
          ]
        },
        {
          "output_type": "stream",
          "name": "stderr",
          "text": [
            "/usr/local/lib/python3.11/dist-packages/keras/src/layers/rnn/rnn.py:200: UserWarning: Do not pass an `input_shape`/`input_dim` argument to a layer. When using Sequential models, prefer using an `Input(shape)` object as the first layer in the model instead.\n",
            "  super().__init__(**kwargs)\n"
          ]
        },
        {
          "output_type": "stream",
          "name": "stdout",
          "text": [
            "  - Fold 3/5 진행 중...\n"
          ]
        },
        {
          "output_type": "stream",
          "name": "stderr",
          "text": [
            "/usr/local/lib/python3.11/dist-packages/keras/src/layers/rnn/rnn.py:200: UserWarning: Do not pass an `input_shape`/`input_dim` argument to a layer. When using Sequential models, prefer using an `Input(shape)` object as the first layer in the model instead.\n",
            "  super().__init__(**kwargs)\n"
          ]
        },
        {
          "output_type": "stream",
          "name": "stdout",
          "text": [
            "  - Fold 4/5 진행 중...\n"
          ]
        },
        {
          "output_type": "stream",
          "name": "stderr",
          "text": [
            "/usr/local/lib/python3.11/dist-packages/keras/src/layers/rnn/rnn.py:200: UserWarning: Do not pass an `input_shape`/`input_dim` argument to a layer. When using Sequential models, prefer using an `Input(shape)` object as the first layer in the model instead.\n",
            "  super().__init__(**kwargs)\n"
          ]
        },
        {
          "output_type": "stream",
          "name": "stdout",
          "text": [
            "  - Fold 5/5 진행 중...\n"
          ]
        },
        {
          "output_type": "stream",
          "name": "stderr",
          "text": [
            "/usr/local/lib/python3.11/dist-packages/keras/src/layers/rnn/rnn.py:200: UserWarning: Do not pass an `input_shape`/`input_dim` argument to a layer. When using Sequential models, prefer using an `Input(shape)` object as the first layer in the model instead.\n",
            "  super().__init__(**kwargs)\n"
          ]
        },
        {
          "output_type": "stream",
          "name": "stdout",
          "text": [
            "\n",
            ">> RUN 4/5 시작 <<\n",
            "  - Fold 1/5 진행 중...\n"
          ]
        },
        {
          "output_type": "stream",
          "name": "stderr",
          "text": [
            "/usr/local/lib/python3.11/dist-packages/keras/src/layers/rnn/rnn.py:200: UserWarning: Do not pass an `input_shape`/`input_dim` argument to a layer. When using Sequential models, prefer using an `Input(shape)` object as the first layer in the model instead.\n",
            "  super().__init__(**kwargs)\n"
          ]
        },
        {
          "output_type": "stream",
          "name": "stdout",
          "text": [
            "  - Fold 2/5 진행 중...\n"
          ]
        },
        {
          "output_type": "stream",
          "name": "stderr",
          "text": [
            "/usr/local/lib/python3.11/dist-packages/keras/src/layers/rnn/rnn.py:200: UserWarning: Do not pass an `input_shape`/`input_dim` argument to a layer. When using Sequential models, prefer using an `Input(shape)` object as the first layer in the model instead.\n",
            "  super().__init__(**kwargs)\n"
          ]
        },
        {
          "output_type": "stream",
          "name": "stdout",
          "text": [
            "  - Fold 3/5 진행 중...\n"
          ]
        },
        {
          "output_type": "stream",
          "name": "stderr",
          "text": [
            "/usr/local/lib/python3.11/dist-packages/keras/src/layers/rnn/rnn.py:200: UserWarning: Do not pass an `input_shape`/`input_dim` argument to a layer. When using Sequential models, prefer using an `Input(shape)` object as the first layer in the model instead.\n",
            "  super().__init__(**kwargs)\n"
          ]
        },
        {
          "output_type": "stream",
          "name": "stdout",
          "text": [
            "  - Fold 4/5 진행 중...\n"
          ]
        },
        {
          "output_type": "stream",
          "name": "stderr",
          "text": [
            "/usr/local/lib/python3.11/dist-packages/keras/src/layers/rnn/rnn.py:200: UserWarning: Do not pass an `input_shape`/`input_dim` argument to a layer. When using Sequential models, prefer using an `Input(shape)` object as the first layer in the model instead.\n",
            "  super().__init__(**kwargs)\n"
          ]
        },
        {
          "output_type": "stream",
          "name": "stdout",
          "text": [
            "  - Fold 5/5 진행 중...\n"
          ]
        },
        {
          "output_type": "stream",
          "name": "stderr",
          "text": [
            "/usr/local/lib/python3.11/dist-packages/keras/src/layers/rnn/rnn.py:200: UserWarning: Do not pass an `input_shape`/`input_dim` argument to a layer. When using Sequential models, prefer using an `Input(shape)` object as the first layer in the model instead.\n",
            "  super().__init__(**kwargs)\n"
          ]
        },
        {
          "output_type": "stream",
          "name": "stdout",
          "text": [
            "\n",
            ">> RUN 5/5 시작 <<\n",
            "  - Fold 1/5 진행 중...\n"
          ]
        },
        {
          "output_type": "stream",
          "name": "stderr",
          "text": [
            "/usr/local/lib/python3.11/dist-packages/keras/src/layers/rnn/rnn.py:200: UserWarning: Do not pass an `input_shape`/`input_dim` argument to a layer. When using Sequential models, prefer using an `Input(shape)` object as the first layer in the model instead.\n",
            "  super().__init__(**kwargs)\n"
          ]
        },
        {
          "output_type": "stream",
          "name": "stdout",
          "text": [
            "  - Fold 2/5 진행 중...\n"
          ]
        },
        {
          "output_type": "stream",
          "name": "stderr",
          "text": [
            "/usr/local/lib/python3.11/dist-packages/keras/src/layers/rnn/rnn.py:200: UserWarning: Do not pass an `input_shape`/`input_dim` argument to a layer. When using Sequential models, prefer using an `Input(shape)` object as the first layer in the model instead.\n",
            "  super().__init__(**kwargs)\n"
          ]
        },
        {
          "output_type": "stream",
          "name": "stdout",
          "text": [
            "  - Fold 3/5 진행 중...\n"
          ]
        },
        {
          "output_type": "stream",
          "name": "stderr",
          "text": [
            "/usr/local/lib/python3.11/dist-packages/keras/src/layers/rnn/rnn.py:200: UserWarning: Do not pass an `input_shape`/`input_dim` argument to a layer. When using Sequential models, prefer using an `Input(shape)` object as the first layer in the model instead.\n",
            "  super().__init__(**kwargs)\n"
          ]
        },
        {
          "output_type": "stream",
          "name": "stdout",
          "text": [
            "  - Fold 4/5 진행 중...\n"
          ]
        },
        {
          "output_type": "stream",
          "name": "stderr",
          "text": [
            "/usr/local/lib/python3.11/dist-packages/keras/src/layers/rnn/rnn.py:200: UserWarning: Do not pass an `input_shape`/`input_dim` argument to a layer. When using Sequential models, prefer using an `Input(shape)` object as the first layer in the model instead.\n",
            "  super().__init__(**kwargs)\n"
          ]
        },
        {
          "output_type": "stream",
          "name": "stdout",
          "text": [
            "  - Fold 5/5 진행 중...\n"
          ]
        },
        {
          "output_type": "stream",
          "name": "stderr",
          "text": [
            "/usr/local/lib/python3.11/dist-packages/keras/src/layers/rnn/rnn.py:200: UserWarning: Do not pass an `input_shape`/`input_dim` argument to a layer. When using Sequential models, prefer using an `Input(shape)` object as the first layer in the model instead.\n",
            "  super().__init__(**kwargs)\n"
          ]
        },
        {
          "output_type": "stream",
          "name": "stdout",
          "text": [
            "\n",
            "\n",
            "==================================================\n",
            ">>> 교차 검증 평균 성능 (모델 선택용) <<<\n",
            "SVR  평균 R2: 0.2856\n",
            "LSTM 평균 R2: 0.3004\n",
            "\n",
            ">> 최종 모델로 'LSTM' 선택 <<\n",
            "==================================================\n",
            "\n",
            "=== 최종 모델 훈련 및 평가 시작 ===\n",
            "LSTM 모델을 전체 훈련 데이터로 재학습합니다...\n"
          ]
        },
        {
          "output_type": "stream",
          "name": "stderr",
          "text": [
            "/usr/local/lib/python3.11/dist-packages/keras/src/layers/rnn/rnn.py:200: UserWarning: Do not pass an `input_shape`/`input_dim` argument to a layer. When using Sequential models, prefer using an `Input(shape)` object as the first layer in the model instead.\n",
            "  super().__init__(**kwargs)\n"
          ]
        },
        {
          "output_type": "stream",
          "name": "stdout",
          "text": [
            "\n",
            "\n",
            "==================================================\n",
            ">>> 최종 모델의 성능 (Final Test Set) <<<\n",
            "==================================================\n",
            "  - R2:   0.4664\n",
            "  - RMSE: 0.12\n",
            "  - MAE:  0.10\n",
            "==================================================\n"
          ]
        }
      ]
    }
  ]
}